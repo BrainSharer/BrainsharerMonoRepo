{
 "cells": [
  {
   "cell_type": "code",
   "execution_count": null,
   "metadata": {},
   "outputs": [],
   "source": [
    "import math, os, sys\n",
    "import json\n",
    "import plotly.express as px\n",
    "import plotly.graph_objects as go\n",
    "import pandas as pd\n",
    "import numpy as np\n",
    "import plotly.offline as py\n",
    "from pathlib import Path\n",
    "from datetime import datetime\n",
    "from ipywidgets import interactive, HBox, VBox\n",
    "from ipywidgets import widgets\n",
    "#py.init_notebook_mode()\n",
    "\n",
    "sys.path.append('/home/eddyod/programming/activebrainatlas')\n",
    "os.environ[\"DJANGO_ALLOW_ASYNC_UNSAFE\"] = \"true\"\n",
    "os.environ.setdefault(\"DJANGO_SETTINGS_MODULE\", \"activebrainatlas.settings\")\n",
    "import django\n",
    "django.setup()"
   ]
  },
  {
   "cell_type": "code",
   "execution_count": null,
   "metadata": {},
   "outputs": [],
   "source": [
    "from neuroglancer.models import UrlModel, LayerData, CenterOfMass, Structure\n",
    "from brain.models import Animal"
   ]
  },
  {
   "cell_type": "code",
   "execution_count": null,
   "metadata": {},
   "outputs": [],
   "source": [
    "img_width = 65000\n",
    "img_height = 36000\n",
    "\n",
    "id = 211 # DK54\n",
    "urlModel = UrlModel.objects.get(pk=id)\n",
    "df = urlModel.points\n",
    "df = df.query('Layer in (\"premotor\", \"PM nucleus\")')\n",
    "df.reset_index(inplace=True)\n",
    "df['ID'] = df.index\n",
    "cols = ['ID', 'Layer','X','Y', 'Section']\n",
    "section = df['Section'].min()\n",
    "initial_df = df.loc[df['Section'] == section]\n",
    "section = str(section).zfill(3)\n",
    "source = f\"https://activebrainatlas.ucsd.edu/data/DK52/www/{section}.png\"\n",
    "fig = go.FigureWidget([go.Scatter(y = initial_df['Y'], x = initial_df['X'], mode = 'markers')])\n",
    "fig.add_layout_image(\n",
    "        dict(\n",
    "        x=0,\n",
    "        sizex=img_width,\n",
    "        y=0,\n",
    "        sizey=img_height,\n",
    "        xref=\"x\",\n",
    "        yref=\"y\",\n",
    "        yanchor=\"top\",\n",
    "        opacity=0.85,\n",
    "        layer=\"below\",\n",
    "        name=\"showme\",\n",
    "        source=source,\n",
    "        sizing=\"contain\")\n",
    ")\n",
    "fig.update_layout(title=urlModel.comments)\n",
    "fig.update_layout(margin=dict(l=0, r=0, b=0, t=0))\n",
    "fig.update_xaxes(range=[0, img_width])\n",
    "fig.update_yaxes(range=[0, img_height],scaleanchor=\"x\")\n",
    "fig.update_layout(template=\"plotly_white\")\n",
    "fig['layout']['yaxis']['autorange'] = \"reversed\"\n",
    "\n",
    "scatter = fig.data[0]\n",
    "\n",
    "scatter.marker.opacity = 1\n",
    "scatter.marker.size = 6\n",
    "scatter.marker.color = 'yellow'\n",
    "\n",
    "section_selector = widgets.Dropdown(\n",
    "    options=list(df['Section'].sort_values().unique()),\n",
    "    value=df['Section'].iloc[0],\n",
    "    description='Section:',\n",
    ")\n",
    "\n",
    "def response(change):\n",
    "    filter_list = [s for s in df['Section'] == section_selector.value]\n",
    "    tmp_df = df[filter_list]\n",
    "        \n",
    "    x = tmp_df['X']\n",
    "    y = tmp_df['Y']\n",
    "    with fig.batch_update():\n",
    "        fig.layout.xaxis.title = \"X\"\n",
    "        fig.layout.yaxis.title = \"Y\"\n",
    "        section = str(section_selector.value).zfill(3)\n",
    "        fig.layout.images[0].source=f\"https://activebrainatlas.ucsd.edu/data/DK52/www/{section_selector.value}.png\"\n",
    "        scatter.x = x\n",
    "        scatter.y = y\n",
    "    with t.batch_update():\n",
    "        t.layout.title = f\"{len(tmp_df)} points on section {section_selector.value}\"\n",
    "        t.data[0].cells.values = [tmp_df[col] for col in tablecols]\n",
    "\n",
    "section_selector.observe(response, names=\"value\")\n",
    "\n",
    "tablecols = ['Layer', 'X', 'Y', 'Section']\n",
    "t = go.FigureWidget([go.Table(\n",
    "    header=dict(values=tablecols,\n",
    "                fill = dict(color='#C2D4FF'),\n",
    "                align = ['left'] * 5),\n",
    "    cells=dict(values=[df[col] for col in tablecols],\n",
    "               fill = dict(color='#F5F8FF'),\n",
    "               align = ['left'] * 5))])\n",
    "\n",
    "def selection_fn(trace,points,selector):\n",
    "    t.layout.title = f\"You have selected {len(points.point_inds)} points\"\n",
    "    t.data[0].cells.values = [df.loc[points.point_inds][col] for col in tablecols]\n",
    "\n",
    "scatter.on_selection(selection_fn)\n",
    "\n",
    "figure_container = widgets.VBox([fig, t])\n",
    "widgets.VBox([section_selector, figure_container])"
   ]
  },
  {
   "cell_type": "code",
   "execution_count": null,
   "metadata": {},
   "outputs": [],
   "source": [
    "#df2 = pd.read_csv('https://raw.githubusercontent.com/jonmmease/plotly_ipywidget_notebooks/master/notebooks/data/cars/cars.csv')\n",
    "#df2.select_dtypes('int64').columns\n",
    "sections = df['Section'].sort_values().unique().tolist()"
   ]
  },
  {
   "cell_type": "code",
   "execution_count": null,
   "metadata": {},
   "outputs": [],
   "source": [
    "sections"
   ]
  },
  {
   "cell_type": "code",
   "execution_count": null,
   "metadata": {},
   "outputs": [],
   "source": [
    "\n"
   ]
  }
 ],
 "metadata": {
  "kernelspec": {
   "display_name": "Django Shell-Plus",
   "language": "python",
   "name": "django_extensions"
  },
  "language_info": {
   "codemirror_mode": {
    "name": "ipython",
    "version": 3
   },
   "file_extension": ".py",
   "mimetype": "text/x-python",
   "name": "python",
   "nbconvert_exporter": "python",
   "pygments_lexer": "ipython3",
   "version": "3.8.5"
  }
 },
 "nbformat": 4,
 "nbformat_minor": 4
}
